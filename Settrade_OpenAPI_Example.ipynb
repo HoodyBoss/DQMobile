{
  "nbformat": 4,
  "nbformat_minor": 0,
  "metadata": {
    "colab": {
      "name": "Copy of OpenAPI Example.ipynb",
      "provenance": [],
      "collapsed_sections": []
    },
    "kernelspec": {
      "name": "python3",
      "display_name": "Python 3",
      "language": "python"
    }
  },
  "cells": [
    {
      "cell_type": "code",
      "metadata": {
        "colab": {
          "base_uri": "https://localhost:8080/"
        },
        "id": "XGAtFvsleH0F",
        "outputId": "015874d3-724f-49ae-8f5e-2a874694dc13"
      },
      "source": [
        "!pip install settrade"
      ],
      "execution_count": 6,
      "outputs": [
        {
          "output_type": "stream",
          "name": "stdout",
          "text": [
            "Requirement already satisfied: settrade in c:\\anaconda3\\lib\\site-packages (0.3.5)\n",
            "Requirement already satisfied: numpy in c:\\anaconda3\\lib\\site-packages (from settrade) (1.19.2)\n",
            "WARNING: You are using pip version 20.2.4; however, version 20.3.3 is available.\n",
            "You should consider upgrading via the 'c:\\anaconda3\\python.exe -m pip install --upgrade pip' command.\n"
          ]
        }
      ]
    },
    {
      "cell_type": "code",
      "metadata": {
        "id": "GO_fxHVBeQ4h"
      },
      "source": [
        "import settrade.openapi\n",
        "import pandas as pd\n",
        "#import datetime\n",
        "import pytz\n",
        "from datetime import datetime, timedelta"
      ],
      "execution_count": 7,
      "outputs": []
    },
    {
      "cell_type": "code",
      "metadata": {
        "id": "a077BUgSm0e5"
      },
      "source": [
        "tz=pytz.timezone(\"Asia/Bangkok\")"
      ],
      "execution_count": 18,
      "outputs": []
    },
    {
      "cell_type": "code",
      "metadata": {
        "id": "Bf6S_XsLfL8h",
        "colab": {
          "base_uri": "https://localhost:8080/",
          "height": 425
        },
        "outputId": "128de833-2c40-47f8-8920-a3e9a04d3456"
      },
      "source": [
        "#########################Login Part###########################\n",
        " \n",
        "app_id=\"hBmEmp5KTnGaoF7V\"                                 # Your app ID\n",
        "app_secret=\"YXSg2ee0+YYPv9GeTmWADtuv6rzyD5pzmwXPtVZdzBA=\" # Your app Secret\n",
        "broker_id=\"063\"\n",
        "app_code=\"ALGO\"\n",
        "derv_account_no=\"0033997\" #settrade-D\n",
        "eq_account_no=\"0033997-E\" # settrade-E\n",
        "is_auto_queue = False\n",
        " \n",
        "investor = settrade.openapi.Investor(app_id,app_secret,app_code,broker_id,is_auto_queue)"
      ],
      "execution_count": 41,
      "outputs": []
    },
    {
      "cell_type": "code",
      "metadata": {
        "colab": {
          "base_uri": "https://localhost:8080/"
        },
        "id": "PS4trhJeQQZx",
        "outputId": "26bc6266-f07f-4a3b-a915-e804abff237b"
      },
      "source": [
        "acc=investor.Derivatives(account_no=derv_account_no)\n",
        "acc.get_account_info()"
      ],
      "execution_count": 42,
      "outputs": [
        {
          "output_type": "execute_result",
          "data": {
            "text/plain": [
              "{'success': False,\n",
              " 'status_code': 403,\n",
              " 'data': {},\n",
              " 'message': '{\"additionalInfo\":{\"message\":\"Unexpected seosdgateway error with http status: 403\"},\"message\":\"Unexpected seosdgateway error with http status: 403\",\"code\":\"API-403\"}'}"
            ]
          },
          "metadata": {},
          "execution_count": 42
        }
      ]
    },
    {
      "cell_type": "code",
      "metadata": {
        "colab": {
          "base_uri": "https://localhost:8080/"
        },
        "id": "K9QO0XDVQqm0",
        "outputId": "aec35ec1-9930-42e4-cbac-1fc82ffa83cf"
      },
      "source": [
        "portfolio=acc.get_portfolio()\r\n",
        "portfolio"
      ],
      "execution_count": 21,
      "outputs": [
        {
          "output_type": "execute_result",
          "data": {
            "text/plain": [
              "{'success': True, 'status_code': 200, 'data': [], 'message': ''}"
            ]
          },
          "metadata": {},
          "execution_count": 21
        }
      ]
    },
    {
      "cell_type": "code",
      "metadata": {
        "colab": {
          "base_uri": "https://localhost:8080/"
        },
        "id": "LsJp2ZhKjva1",
        "outputId": "4cc0c3aa-6bf1-4149-823c-0d7ac3a4b776"
      },
      "source": [
        "acc_eq=investor.Equity(account_no=eq_account_no)\n",
        "acc_eq.get_account_info()"
      ],
      "execution_count": 22,
      "outputs": [
        {
          "output_type": "execute_result",
          "data": {
            "text/plain": [
              "{'success': False,\n",
              " 'data': {},\n",
              " 'message': 'Internal Error: Get https://open-api.settrade.com/api/seos/v1/063/accounts/0033997-E/account-info: dial tcp: lookup open-api.settrade.com: no such host',\n",
              " 'status_code': 500}"
            ]
          },
          "metadata": {},
          "execution_count": 22
        }
      ]
    },
    {
      "cell_type": "code",
      "metadata": {
        "id": "TOovNACEkdlC"
      },
      "source": [
        " \n",
        "##################################\n",
        "# กรณี Investor\n",
        "mqtt = investor.MQTTWebsocket()\n",
        "market = investor.MarketData()\n",
        " \n",
        "###################################"
      ],
      "execution_count": 23,
      "outputs": []
    },
    {
      "cell_type": "code",
      "metadata": {
        "id": "34Yju_DlRl9n"
      },
      "source": [
        "instrument=\"S50Z20C1000\""
      ],
      "execution_count": 24,
      "outputs": []
    },
    {
      "cell_type": "code",
      "metadata": {
        "id": "_YYluGtARv_l"
      },
      "source": [
        "instrument=\"S50H21\""
      ],
      "execution_count": null,
      "outputs": []
    },
    {
      "cell_type": "code",
      "metadata": {
        "id": "DRPCl2_WeFtN"
      },
      "source": [
        "def Period(interval):\n",
        "   switcher={\n",
        "       \"1m\": \"M\",\n",
        "       \"5m\": \"M\",\n",
        "       \"15m\": \"M\",\n",
        "       \"30m\": \"M\",\n",
        "       \"60m\": \"H\",\n",
        "       \"240m\": \"H\",\n",
        "       \"1d\": \"D\"\n",
        "   }\n",
        "   return switcher[interval]"
      ],
      "execution_count": 26,
      "outputs": []
    },
    {
      "cell_type": "code",
      "metadata": {
        "id": "EKRvl3a6umD6"
      },
      "source": [
        "############################\r\n",
        "fmt=\"%Y-%m-%dT%H:%M:%S\"\r\n",
        "interval=\"1d\"\r\n",
        "interval=\"5m\"\r\n",
        "interval=\"15m\"\r\n",
        "interval=\"30m\"\r\n",
        "interval=\"60m\"\r\n",
        "interval=\"1m\"\r\n",
        "limit=1000\r\n",
        " "
      ],
      "execution_count": 27,
      "outputs": []
    },
    {
      "cell_type": "code",
      "metadata": {
        "id": "gL-hDvzamLVm"
      },
      "source": [
        "\n",
        "now=datetime.now()\n",
        "if Period(interval)==\"M\":\n",
        "  time_back=timedelta(minutes=limit)\n",
        "elif Period(interval)==\"H\":\n",
        "  time_back=timedelta(hours=limit)\n",
        "elif Period(interval)==\"D\":\n",
        "  time_back=timedelta(days=limit)\n",
        "else:\n",
        "  time_back=timedelta(days=limit)\n",
        "  \n",
        "start=now - time_back\n",
        "start=datetime.strftime(start,fmt)\n",
        "end=datetime.strftime(now,fmt)\n",
        " \n",
        "#print(start)\n",
        "normalize=True\n",
        "instrument=\"S50H21\"\n",
        "ChartDataResponse = market.get_candlestick(instrument,interval,limit,start,end,normalize)"
      ],
      "execution_count": 39,
      "outputs": []
    },
    {
      "cell_type": "code",
      "metadata": {
        "colab": {
          "base_uri": "https://localhost:8080/",
          "height": 204
        },
        "id": "CK5u00aQoXLY",
        "outputId": "c37c1feb-6b3d-4f31-a831-f1fac580f335"
      },
      "source": [
        "df=pd.DataFrame(ChartDataResponse[\"data\"])\n",
        "df[\"datetime\"]=df[\"time\"].apply(lambda x: datetime.fromtimestamp(x, tz=tz) )\n",
        "col=[\"datetime\",\"open\",\"high\",\"low\",\"close\",\"volume\"]\n",
        "df[col].tail()"
      ],
      "execution_count": 40,
      "outputs": [
        {
          "output_type": "execute_result",
          "data": {
            "text/plain": [
              "Empty DataFrame\n",
              "Columns: [datetime, open, high, low, close, volume]\n",
              "Index: []"
            ],
            "text/html": "<div>\n<style scoped>\n    .dataframe tbody tr th:only-of-type {\n        vertical-align: middle;\n    }\n\n    .dataframe tbody tr th {\n        vertical-align: top;\n    }\n\n    .dataframe thead th {\n        text-align: right;\n    }\n</style>\n<table border=\"1\" class=\"dataframe\">\n  <thead>\n    <tr style=\"text-align: right;\">\n      <th></th>\n      <th>datetime</th>\n      <th>open</th>\n      <th>high</th>\n      <th>low</th>\n      <th>close</th>\n      <th>volume</th>\n    </tr>\n  </thead>\n  <tbody>\n  </tbody>\n</table>\n</div>"
          },
          "metadata": {},
          "execution_count": 40
        }
      ]
    },
    {
      "cell_type": "code",
      "metadata": {
        "colab": {
          "base_uri": "https://localhost:8080/",
          "height": 297
        },
        "id": "pqfeEYFqotw9",
        "outputId": "2f2721b8-be55-4ad7-efab-a39a83831ef1"
      },
      "source": [
        "df.describe()"
      ],
      "execution_count": 36,
      "outputs": [
        {
          "output_type": "error",
          "ename": "ValueError",
          "evalue": "Cannot describe a DataFrame without columns",
          "traceback": [
            "\u001b[1;31m---------------------------------------------------------------------------\u001b[0m",
            "\u001b[1;31mValueError\u001b[0m                                Traceback (most recent call last)",
            "\u001b[1;32m<ipython-input-36-ea8415b8a3ee>\u001b[0m in \u001b[0;36m<module>\u001b[1;34m\u001b[0m\n\u001b[1;32m----> 1\u001b[1;33m \u001b[0mdf\u001b[0m\u001b[1;33m.\u001b[0m\u001b[0mdescribe\u001b[0m\u001b[1;33m(\u001b[0m\u001b[1;33m)\u001b[0m\u001b[1;33m\u001b[0m\u001b[1;33m\u001b[0m\u001b[0m\n\u001b[0m",
            "\u001b[1;32mC:\\Anaconda3\\lib\\site-packages\\pandas\\core\\generic.py\u001b[0m in \u001b[0;36mdescribe\u001b[1;34m(self, percentiles, include, exclude)\u001b[0m\n\u001b[0;32m  10176\u001b[0m         \"\"\"\n\u001b[0;32m  10177\u001b[0m         \u001b[1;32mif\u001b[0m \u001b[0mself\u001b[0m\u001b[1;33m.\u001b[0m\u001b[0mndim\u001b[0m \u001b[1;33m==\u001b[0m \u001b[1;36m2\u001b[0m \u001b[1;32mand\u001b[0m \u001b[0mself\u001b[0m\u001b[1;33m.\u001b[0m\u001b[0mcolumns\u001b[0m\u001b[1;33m.\u001b[0m\u001b[0msize\u001b[0m \u001b[1;33m==\u001b[0m \u001b[1;36m0\u001b[0m\u001b[1;33m:\u001b[0m\u001b[1;33m\u001b[0m\u001b[1;33m\u001b[0m\u001b[0m\n\u001b[1;32m> 10178\u001b[1;33m             \u001b[1;32mraise\u001b[0m \u001b[0mValueError\u001b[0m\u001b[1;33m(\u001b[0m\u001b[1;34m\"Cannot describe a DataFrame without columns\"\u001b[0m\u001b[1;33m)\u001b[0m\u001b[1;33m\u001b[0m\u001b[1;33m\u001b[0m\u001b[0m\n\u001b[0m\u001b[0;32m  10179\u001b[0m \u001b[1;33m\u001b[0m\u001b[0m\n\u001b[0;32m  10180\u001b[0m         \u001b[1;32mif\u001b[0m \u001b[0mpercentiles\u001b[0m \u001b[1;32mis\u001b[0m \u001b[1;32mnot\u001b[0m \u001b[1;32mNone\u001b[0m\u001b[1;33m:\u001b[0m\u001b[1;33m\u001b[0m\u001b[1;33m\u001b[0m\u001b[0m\n",
            "\u001b[1;31mValueError\u001b[0m: Cannot describe a DataFrame without columns"
          ]
        }
      ]
    },
    {
      "cell_type": "code",
      "metadata": {
        "colab": {
          "base_uri": "https://localhost:8080/"
        },
        "id": "KcTaIi2GpiCc",
        "outputId": "3905bd79-8afc-41c5-fdea-0968e0cd568b"
      },
      "source": [
        "last_price=0.0\r\n",
        "def price_info_message(result, subscriber, arg1, arg2):\r\n",
        "  global last_price\r\n",
        "  print(\"price_info_message: \", result)\r\n",
        "  print(\"price_info_message:  instrument: \", arg1 , arg2)\r\n",
        "  last_price = result['data']['last']\r\n",
        "  print('last price is', last_price)\r\n",
        "    #if last_price > 100:\r\n",
        "    #print(\"stop subscribe\")\r\n",
        "        #subscriber.stop()\r\n",
        "\r\n",
        "sub_price_info = mqtt.subscribe_price_info(instrument, on_message = price_info_message , args=(instrument, \"xxx\" )  )\r\n",
        "sub_price_info.start()\r\n"
      ],
      "execution_count": null,
      "outputs": [
        {
          "output_type": "stream",
          "text": [
            "price_info_message:  {'is_success': True, 'data': {'symbol': 'S50H21', 'high': 934.0, 'low': 926.9, 'last': 933.2, 'total_volume': 42259, 'projected_open_price': 0.0}, 'message': ''}\n",
            "price_info_message:  instrument:  S50H21 xxx\n",
            "last price is 933.2\n"
          ],
          "name": "stdout"
        }
      ]
    },
    {
      "cell_type": "code",
      "metadata": {
        "colab": {
          "base_uri": "https://localhost:8080/"
        },
        "id": "Mhlz-wLttDqV",
        "outputId": "61285e35-5abf-4f5b-ac8c-578feeb009ef"
      },
      "source": [
        "last_price"
      ],
      "execution_count": null,
      "outputs": [
        {
          "output_type": "execute_result",
          "data": {
            "text/plain": [
              "933.2"
            ]
          },
          "metadata": {
            "tags": []
          },
          "execution_count": 117
        }
      ]
    },
    {
      "cell_type": "code",
      "metadata": {
        "id": "KAjzZgVvpu8o"
      },
      "source": [
        "sub_price_info.stop()"
      ],
      "execution_count": null,
      "outputs": []
    },
    {
      "cell_type": "code",
      "metadata": {
        "id": "J4L8Kd-kKX1E"
      },
      "source": [
        "def candle_message(result, subscriber, arg1):\n",
        "  print(\"candle_message: \", result)\n",
        "    #if num >10:\n",
        "    #  subscriber.stop()\n",
        " \n",
        " \n",
        "sub_candle = mqtt.subscribe_candlestick(instrument,interval, candle_message,args=(instrument,))\n",
        "sub_candle.start()"
      ],
      "execution_count": null,
      "outputs": []
    },
    {
      "cell_type": "code",
      "metadata": {
        "id": "VWc5E5fpSBQA"
      },
      "source": [
        "sub_candle.stop()"
      ],
      "execution_count": null,
      "outputs": []
    },
    {
      "cell_type": "code",
      "metadata": {
        "id": "58njzHbzL76m",
        "colab": {
          "base_uri": "https://localhost:8080/"
        },
        "outputId": "65725cfb-c72b-4ad7-e0c9-22c31229b7c1"
      },
      "source": [
        "bid_price1=0.0\n",
        "ask_price1=0.0\n",
        "bid_volume1=0.0\n",
        "ask_volume1=0.0\n",
        "\n",
        "def bid_offer_message(result, subscriber, arg1):\n",
        "  global bid_price1, ask_price1, bid_volume1,  ask_volume1\n",
        "  print(\"bid_offer_message: \", result)\n",
        "  #print(num)\n",
        "  bid_price1 = result['data']['bid_price1']\n",
        "  ask_price1 = result['data']['ask_price1']\n",
        "  bid_volume1 = result['data']['bid_volume1']\n",
        "  ask_volume1 = result['data']['ask_volume1']\n",
        "  print('bid price 1 price is', bid_price1)\n",
        "  #if bid_price1 > 100:\n",
        "    #print(\"stop subscribe\")\n",
        "    #subscriber.stop()\n",
        " \n",
        "sub_bidoffer = mqtt.subscribe_bid_offer( instrument, on_message = bid_offer_message ,args=(instrument,))\n",
        "sub_bidoffer.start()"
      ],
      "execution_count": null,
      "outputs": [
        {
          "output_type": "stream",
          "text": [
            "bid_offer_message:  {'is_success': True, 'data': {'symbol': 'S50H21', 'bid_price1': 933.1, 'bid_price2': 933.0, 'bid_price3': 932.9, 'bid_price4': 932.8, 'bid_price5': 932.7, 'ask_price1': 933.1, 'ask_price2': 933.0, 'ask_price3': 932.9, 'ask_price4': 932.8, 'ask_price5': 932.7, 'bid_volume1': 10, 'bid_volume2': 339, 'bid_volume3': 479, 'bid_volume4': 589, 'bid_volume5': 305, 'ask_volume1': 70, 'ask_volume2': 322, 'ask_volume3': 554, 'ask_volume4': 392, 'ask_volume5': 121}, 'message': ''}\n",
            "bid price 1 price is 933.1\n"
          ],
          "name": "stdout"
        }
      ]
    },
    {
      "cell_type": "code",
      "metadata": {
        "colab": {
          "base_uri": "https://localhost:8080/"
        },
        "id": "igPJCzJzu3eX",
        "outputId": "09561cc8-ca28-4784-97f3-8bd0b23a58db"
      },
      "source": [
        "print(\"bid: \", bid_price1, \"vol bid: \",  bid_volume1,  \"\\nask: \", ask_price1, \"vol ask: \", ask_volume1)"
      ],
      "execution_count": null,
      "outputs": [
        {
          "output_type": "stream",
          "text": [
            "bid:  933.1 vol bid:  10 \n",
            "ask:  933.1 vol ask:  70\n"
          ],
          "name": "stdout"
        }
      ]
    },
    {
      "cell_type": "code",
      "metadata": {
        "id": "xMpeXSaMSXkb"
      },
      "source": [
        "sub_bidoffer.stop()"
      ],
      "execution_count": null,
      "outputs": []
    },
    {
      "cell_type": "code",
      "metadata": {
        "id": "BwqXSGRsPixu"
      },
      "source": [
        "def derv_order_message(result, subscriber, arg1):\n",
        "  print(\"derv_order_message: \", result)\n",
        " \n",
        "sub_order = mqtt.subscribe_derivatives_order(derv_account_no, on_message = derv_order_message , args=(derv_account_no,))\n",
        "sub_order.start()"
      ],
      "execution_count": null,
      "outputs": []
    },
    {
      "cell_type": "code",
      "metadata": {
        "id": "0eBgIfYAP_Sq"
      },
      "source": [
        "sub_order.stop()"
      ],
      "execution_count": null,
      "outputs": []
    },
    {
      "cell_type": "code",
      "metadata": {
        "id": "vFxiHEIrUIa1"
      },
      "source": [
        "place_order = acc.place_order(\n",
        "    symbol=instrument,\n",
        "    price=ask_price1,\n",
        "    volume=10,\n",
        "    side=\"LONG\",\n",
        "    position=\"OPEN\",\n",
        "    pin=\"000000\")\n",
        "\n",
        "place_order"
      ],
      "execution_count": null,
      "outputs": []
    },
    {
      "cell_type": "code",
      "metadata": {
        "colab": {
          "base_uri": "https://localhost:8080/"
        },
        "id": "7uRTertGVEmQ",
        "outputId": "aba80b4d-941d-40fc-b278-9a9590d097c2"
      },
      "source": [
        "place_order"
      ],
      "execution_count": null,
      "outputs": [
        {
          "output_type": "stream",
          "text": [
            "candle_message:  {'is_success': True, 'data': {'symbol': 'S50H21', 'interval': '1m', 'last_sequence': 343493, 'time': 1608108480, 'open': 947.6, 'high': 948.0, 'low': 947.6, 'close': 948.0, 'volume': 4}, 'message': ''}\n"
          ],
          "name": "stdout"
        },
        {
          "output_type": "execute_result",
          "data": {
            "text/plain": [
              "{'data': {'order_no': 2172},\n",
              " 'message': '',\n",
              " 'status_code': 200,\n",
              " 'success': True}"
            ]
          },
          "metadata": {
            "tags": []
          },
          "execution_count": 28
        }
      ]
    },
    {
      "cell_type": "code",
      "metadata": {
        "colab": {
          "base_uri": "https://localhost:8080/"
        },
        "id": "Bdg-LAZ-Vr7Z",
        "outputId": "3447d0f9-d73e-4297-9113-77fb00b67cf5"
      },
      "source": [
        " trade_list=acc.get_trades()\r\n",
        " trade_list"
      ],
      "execution_count": null,
      "outputs": [
        {
          "output_type": "execute_result",
          "data": {
            "text/plain": [
              "{'data': [], 'message': '', 'status_code': 200, 'success': True}"
            ]
          },
          "metadata": {
            "tags": []
          },
          "execution_count": 45
        }
      ]
    },
    {
      "cell_type": "code",
      "metadata": {
        "colab": {
          "base_uri": "https://localhost:8080/"
        },
        "id": "3d1WnSH_VvE8",
        "outputId": "d75528d0-b807-45af-d9c2-6ea89ae6db27"
      },
      "source": [
        "portfolio=acc.get_portfolio()\r\n",
        "portfolio"
      ],
      "execution_count": null,
      "outputs": [
        {
          "output_type": "stream",
          "text": [
            "candle_message:  "
          ],
          "name": "stdout"
        },
        {
          "output_type": "execute_result",
          "data": {
            "text/plain": [
              "{'data': [], 'message': '', 'status_code': 200, 'success': True}"
            ]
          },
          "metadata": {
            "tags": []
          },
          "execution_count": 44
        },
        {
          "output_type": "stream",
          "text": [
            "{'is_success': True, 'data': {'symbol': 'S50H21', 'interval': '1m', 'last_sequence': 352470, 'time': 1608109020, 'open': 947.2, 'high': 947.4, 'low': 947.2, 'close': 947.2, 'volume': 7}, 'message': ''}\n"
          ],
          "name": "stdout"
        }
      ]
    },
    {
      "cell_type": "code",
      "metadata": {
        "id": "B8NXOLIeQnMI"
      },
      "source": [
        "acc.get_orders()"
      ],
      "execution_count": null,
      "outputs": []
    }
  ]
}